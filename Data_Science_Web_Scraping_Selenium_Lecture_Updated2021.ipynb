{
 "cells": [
  {
   "cell_type": "markdown",
   "metadata": {},
   "source": [
    "# Data Science - Web Scraping"
   ]
  },
  {
   "cell_type": "markdown",
   "metadata": {},
   "source": [
    "## Tasks Today:\n",
    "\n",
    "1) <b>Requests</b> <br>\n",
    " &nbsp;&nbsp;&nbsp;&nbsp; a) Importing <br>\n",
    " &nbsp;&nbsp;&nbsp;&nbsp; b) Using Requests <br>\n",
    "2) <b>Beautiful Soup</b> <br>\n",
    " &nbsp;&nbsp;&nbsp;&nbsp; a) Importing <br>\n",
    " &nbsp;&nbsp;&nbsp;&nbsp; b) Using Beautiful Soup <br>\n",
    " &nbsp;&nbsp;&nbsp;&nbsp; c) .prettify() <br>\n",
    " &nbsp;&nbsp;&nbsp;&nbsp; d) Converting to a List <br>\n",
    " &nbsp;&nbsp;&nbsp;&nbsp; e) Extracting Beautiful Soup Elements <br>\n",
    " &nbsp;&nbsp;&nbsp;&nbsp; f) Assigning Variables from Beautiful Soup <br>\n",
    " &nbsp;&nbsp;&nbsp;&nbsp; g) .find() <br>\n",
    " &nbsp;&nbsp;&nbsp;&nbsp; h) .find_all() <br>\n",
    "3) <b>Exercise</b> <br>"
   ]
  },
  {
   "cell_type": "markdown",
   "metadata": {},
   "source": [
    "## Requests"
   ]
  },
  {
   "cell_type": "code",
   "execution_count": 1,
   "metadata": {},
   "outputs": [
    {
     "name": "stdout",
     "output_type": "stream",
     "text": [
      "Requirement already satisfied: beautifulsoup4 in c:\\users\\bstan\\anaconda3\\envs\\intro\\lib\\site-packages (4.9.3)\n",
      "Requirement already satisfied: soupsieve>1.2; python_version >= \"3.0\" in c:\\users\\bstan\\anaconda3\\envs\\intro\\lib\\site-packages (from beautifulsoup4) (2.2.1)\n",
      "Requirement already satisfied: httpx in c:\\users\\bstan\\anaconda3\\envs\\intro\\lib\\site-packages (0.18.1)\n",
      "Requirement already satisfied: sniffio in c:\\users\\bstan\\anaconda3\\envs\\intro\\lib\\site-packages (from httpx) (1.2.0)\n",
      "Requirement already satisfied: httpcore<0.14.0,>=0.13.0 in c:\\users\\bstan\\anaconda3\\envs\\intro\\lib\\site-packages (from httpx) (0.13.2)\n",
      "Requirement already satisfied: rfc3986[idna2008]<2,>=1.3 in c:\\users\\bstan\\anaconda3\\envs\\intro\\lib\\site-packages (from httpx) (1.4.0)\n",
      "Requirement already satisfied: certifi in c:\\users\\bstan\\anaconda3\\envs\\intro\\lib\\site-packages (from httpx) (2020.11.8)\n",
      "Requirement already satisfied: h11==0.* in c:\\users\\bstan\\anaconda3\\envs\\intro\\lib\\site-packages (from httpcore<0.14.0,>=0.13.0->httpx) (0.12.0)\n",
      "Requirement already satisfied: idna; extra == \"idna2008\" in c:\\users\\bstan\\anaconda3\\envs\\intro\\lib\\site-packages (from rfc3986[idna2008]<2,>=1.3->httpx) (2.10)\n"
     ]
    }
   ],
   "source": [
    "# Install Beautiful Soup\n",
    "!pip install beautifulsoup4\n",
    "!pip install httpx"
   ]
  },
  {
   "cell_type": "markdown",
   "metadata": {},
   "source": [
    "### Importing"
   ]
  },
  {
   "cell_type": "code",
   "execution_count": 2,
   "metadata": {},
   "outputs": [],
   "source": [
    "import httpx"
   ]
  },
  {
   "cell_type": "markdown",
   "metadata": {},
   "source": [
    "### Using Requests"
   ]
  },
  {
   "cell_type": "code",
   "execution_count": 3,
   "metadata": {},
   "outputs": [],
   "source": [
    "# Connect to URL\n",
    "page = httpx.get('https://www.arthurleej.com/e-love.html')"
   ]
  },
  {
   "cell_type": "code",
   "execution_count": 4,
   "metadata": {},
   "outputs": [
    {
     "data": {
      "text/plain": [
       "<Response [200 OK]>"
      ]
     },
     "execution_count": 4,
     "metadata": {},
     "output_type": "execute_result"
    }
   ],
   "source": [
    "# display result response\n",
    "page"
   ]
  },
  {
   "cell_type": "markdown",
   "metadata": {},
   "source": [
    "##### .content()"
   ]
  },
  {
   "cell_type": "code",
   "execution_count": 5,
   "metadata": {},
   "outputs": [
    {
     "data": {
      "text/plain": [
       "b'<!DOCTYPE HTML PUBLIC \"-//W3C//DTD HTML 3.2 Final//EN\">\\r<html>\\r<head>\\r\\t<title>Essay on Love by Arthur Lee Jacobson</title>\\r<meta name=\"description\" content=\"Trees,gardening, wild and domestic plant life are the specialty of author Arthur Lee Jacobson.\">\\r<meta name=\"keywords\" content=\"trees, gardening, wild plants, domestic plants, gardening author, gardening books, Arthur Lee Jacobson, A L J, A L Jacobson, Arthur Jacobson, arthur lee, plants, flowers, seattle, washington\">\\r<meta name=\"resource-type\" content=\"document\">\\r<meta name=\"generator\" content=\"BBEdit 4.5\">\\r<meta name=\"robots\" content=\"all\">\\r<meta name=\"classification\" content=\"Gardening\">\\r<meta name=\"distribution\" content=\"global\">\\r<meta name=\"rating\" content=\"general\">\\r<meta name=\"copyright\" content=\"2001 Arthur Lee Jacobson\">\\r<meta name=\"author\" content=\"eriktyme@eriktyme.com\">\\r<meta name=\"language\" content=\"en-us\">\\r</head>\\r<body background=\"images/background1a.jpg\" bgcolor=\"#FFFFCC\" text=\"#000000\" link=\"#0000FF\" alink=\"#33CC33\" vlink=\"#FF00FF\">\\r<! -- #include virtual=\"/includes/header.html\" -- >\\r<br><center><table border=\"0\" cellspacing=\"2\" cellpadding=\"1\">\\r\\t<tr>\\r\\t\\t<td width=\"480\" align=\"center\" valign=\"top\">\\r<table border=\"0\" cellspacing=\"2\" cellpadding=\"1\">\\r\\t<tr>\\r\\t\\t<td width=\"480\" align=\"center\" valign=\"top\"><font size=\"5\"><b>Love</b></font></td>\\r\\t</tr>\\r\\t<tr>\\r\\t\\t<td width=\"480\" align=\"left\" valign=\"top\"><font size=\"3\"><b>&nbsp;&nbsp;&nbsp;&nbsp;Of the fourteen essays I\\'m writing, only this one treats an emotion. That love is the most important emotion is the deduction. I think other emotions may be as important, but are not so powerfully moving or interesting to most of us. Love is exciting. There is no need to justify choosing to write about it. Are not most songs love songs? Are not most novels stories featuring love?</b></font></td>\\r\\t</tr>\\r\\t<tr>\\r\\t\\t<td width=\"480\" align=\"left\" valign=\"top\"><font size=\"3\"><b>&nbsp;&nbsp;&nbsp;&nbsp;Love in its broad sense is the feeling of strong attraction, and often attachment and protection. It is felt towards other people, towards pets, towards inanimate objects, towards abstractions such as patriotism, religious matters, hobbies, and I suppose nearly everything. It is multifaceted, and includes ordinary self-love, chivalrous love, carnal or sexual love, friendly love, family love. It is an emotion that is closely related to certain others, such as hope. At its simplest level it is what we strongly like.</b></font></td>\\r\\t</tr>\\r\\t<tr>\\r\\t\\t<td width=\"480\" align=\"left\" valign=\"top\"><font size=\"3\"><b>&nbsp;&nbsp;&nbsp;&nbsp;I have a hunch that love, like the rose, owes much of its appeal to our mainstream Western culture -- and that in some other societies it is by no means such a big deal. Somehow, especially in recent centuries, the notion of romantic love has become elevated far more than it used to be. Why this has happened is for social historians to explain; I don\\'t know. I will merely say that if one reads the ancient Greeks and Romans, then it is obvious that today love is relatively more significant in our culture. A plethora of differences exist between us and people 2,000 years ago. That doesn\\'t invalidate my observation that we moderns rate love more importantly now than our ancestors used to.</b></font></td>\\r\\t</tr>\\r\\t<tr>\\r\\t\\t<td width=\"480\" align=\"left\" valign=\"top\"><font size=\"3\"><b>&nbsp;&nbsp;&nbsp;&nbsp;It is presumed that sexual attraction, being instinctive, is comparatively constant over the centuries and across cultures. But let\\'s be clear: sexual attraction is only one manifestation of love. One can be sexually aroused and still feel no love, just as a couple can be married and possess no mutual sexual appetite or love. Some people find they can fulfill sexual needs one way, and they love something else, such as a hobby or their work.</b></font></td>\\r\\t</tr>\\r\\t<tr>\\r\\t\\t<td width=\"480\" align=\"left\" valign=\"top\"><font size=\"3\"><b>&nbsp;&nbsp;&nbsp;&nbsp;When sexual desire, or go ahead and call it sexual need, is very strong, it certainly gets called love. To be precise it may be best termed carnal love. Similarly, a glutton loves food, and an addict perversely loves whatever drug or activity he\\'s hooked on. Sexual love, then, is not necessarily anything more than an equivalent of an animal being in heat. On the other hand, if two people share a wholehearted, broad-based love for each other, then their sexual relations may be more an expression of their affection than of their instinctive drive.</b></font></td>\\r\\t</tr>\\r\\t<tr>\\r\\t\\t<td width=\"480\" align=\"left\" valign=\"top\"><font size=\"3\"><b>&nbsp;&nbsp;&nbsp;&nbsp;Yes, love and sex are too much confused. It is frightful how many beastly rapes and molestations take place, which are sexual but devoid of love completely. Love can be found thriving far from sex, as in a mother\\'s love for her child, or a religious order\\'s mystical love of doing glory to God, or of the knight\\'s chivalrous love towards his country and rulers. The soldier\\'s courage to defend his family is a kind of love in action. The artist who starves in an attic, living a celibate existence to produce masterpieces, is illuminated by love. Childhood friends who go through life together know love, though not sex, as regards each other. Have I made my point obvious?</b></font></td>\\r\\t</tr>\\r\\t<tr>\\r\\t\\t<td width=\"480\" align=\"left\" valign=\"top\"><font size=\"3\"><b>&nbsp;&nbsp;&nbsp;&nbsp;It is, I\\'m sure. But I\\'m on a roll and don\\'t want to stop yet. Love\\'s antithesis is hate. Hate is often associated with harm or destruction, even death. But again, it is not <i>equal</i> to those. It is strongly held negative emotions, even as love is strongly held positive ones.</b><br><br></font></td>\\r\\t</tr>\\r\\t<tr>\\r\\t\\t<td width=\"480\" align=\"left\" valign=\"top\"><font size=\"3\"><b>&nbsp;&nbsp;&nbsp;&nbsp;The golden rule, &quot;Love thy neighbor as thyself,&quot; or &quot;do unto others as you would have them do unto you,&quot; helps us see that if we want people to enjoy peaceful, content existence, we must work together cooperatively, and not let our passions, of either love or hate, get us out of line.</b></font></td>\\r\\t</tr>\\r\\t<tr>\\r\\t\\t<td width=\"480\" align=\"left\" valign=\"top\"><font size=\"3\"><b>&nbsp;&nbsp;&nbsp;&nbsp;One thing I\\'m sure of, is the world would be a better place if all of us individuals had someone or something we loved. I feel sorry for people who are neutral about this, indifferent regarding that, and don\\'t know what really turns them on. I almost wish there was a law against having no love in one\\'s life. Well, that kind of thinking is too extreme. Is it possible, without love, to be healthy in a mental sense? To be balanced? Can an individual\\'s self-esteem be proper without love? It is certainly possible for a person to be <i>temporarily</i> devoid of love. For example, pick up a random individual, transport him across the planet, and set him into a strange culture, where he knows no one, he knows not a word of the language. He will be in shock, and will love no one, and probably his only love then would be of longing for his familiar life. Temporarily, his shock, his sadness, and his bewilderment will be more powerful feelings than any love he feels.</b></font></td>\\r\\t</tr>\\r\\t<tr>\\r\\t\\t<td width=\"480\" align=\"left\" valign=\"top\"><font size=\"3\"><b>&nbsp;&nbsp;&nbsp;&nbsp;Since love can be felt in so many different ways, it is a good thing our culture allows people freedom to choose. All the more wondrous that some of us seem to love nothing! What explains this? Are children who were in dysfunctional, abusive situations forced to retreat as it were into a shell, to be calloused against freely opening themselves to the flow of their emotions? Are certain people born with chemical imbalances in their brains which make it impossible for them to feel love? Are some people so prone to liking numerous things that they tend to not strongly like (<i>i.e.,</i> love) any one thing in particular?</b></font></td>\\r\\t</tr>\\r\\t<tr>\\r\\t\\t<td width=\"480\" align=\"left\" valign=\"top\"><font size=\"3\"><b>&nbsp;&nbsp;&nbsp;&nbsp;To love is to express oneself. Usually one\\'s love is obviously manifested. It may be that even as some of us are generally shy and inhibited, some of us are poorer at loving. Doubtless there are complex, peculiar combinations of factors operating in every individual case. And most of our general rules or commonplace assumptions are based on behavior prevalent in our <i>culture.</i></b></font></td>\\r\\t</tr>\\r\\t<tr>\\r\\t\\t<td width=\"480\" align=\"left\" valign=\"top\"><font size=\"3\"><b>&nbsp;&nbsp;&nbsp;&nbsp;The chief motivating factor in many of our lives is love. People go to extraordinary lengths and costs to find love, or to give it, to keep it, to hope for it. In some cultures, such as primitive stone-age ones, I\\'m sure that basic food gathering and survival work is more dominating than any interpretation of love other than love of continuing to <i>live.</i></b></font></td>\\r\\t</tr>\\r\\t<tr>\\r\\t\\t<td width=\"480\" align=\"left\" valign=\"top\"><font size=\"3\"><b>&nbsp;&nbsp;&nbsp;&nbsp;In my life, I prefer to give my time to being with people I love, rather than being paid to spend time working for people whom I don\\'t love. Similarly, I would rather remain single and wait until I can marry a woman with whom I can share profound love, than cohabit with a woman about who I am indifferent. It is often said &quot;what really counts is that a person does what he or she loves.&quot; Yet how many of us <i>really</i> do? How many of us <i>would</i> keep doing our jobs if we didn\\'t need the money? Few of us. Even if I was suddenly rich financially, I\\'d still do most of what I do now; I\\'d not fundamentally change.</b></font></td>\\r\\t</tr>\\r\\t<tr>\\r\\t\\t<td width=\"480\" align=\"left\" valign=\"top\"><font size=\"3\"><b>&nbsp;&nbsp;&nbsp;&nbsp;No, money won\\'t alter me much. Love may. If I decide to marry a woman, and she is eager also, I would stop merely doing whatever I please, and start giving my attention equally to pleasing her. Ideally we\\'d work very well together. But times would occur when we\\'d disagree, so I\\'d yield whenever I possibly could, out of my love and respect, and concern for our marriage.</b></font></td>\\r\\t</tr>\\r\\t<tr>\\r\\t\\t<td width=\"480\" align=\"left\" valign=\"top\"><font size=\"3\"><b>&nbsp;&nbsp;&nbsp;&nbsp;The love that motivates people to give freely their very lives is greatly inspiring. If martyrs didn\\'t have love propelling them, then they at any rate had <i>strong</i> emotions. Sometimes I dream about hypothetical situations that test my love. For example, if the woman I think the very world of, asked me to give up my Seattle existence, to live with her 1,000 miles away -- would I do it? Maybe. If I figured there was good odds of living happily ever after, I might. But such questions are answered not just by deliberation, they\\'re affected by emotion. Love can blind us to logic, reason and common sense. I love so many things about my life in Seattle, and there are so many eligible women here  -- that the chance of me heading out of town, loveblind, is remote. But that I <i>think</i> about such things, shows I am moved mightily by love.</b></font></td>\\r\\t</tr>\\r\\t<tr>\\r\\t\\t<td width=\"480\" align=\"left\" valign=\"top\"><font size=\"3\"><b>&nbsp;&nbsp;&nbsp;&nbsp;I am so glad to love my work, to love my family and friends, to love my city, and to love nature. Yes, I want to also love a woman who loves me. That will come. So far it has alway been one-way rather than mutual. I\\'m particular, patient, and confident. It\\'s sort of a &quot;patting oneself on the back&quot; to say it, but I wish more people would show restraint about forming intimate relationships of the sort that are called marriages. Too many young folks hurry into such arrangements, and all too soon failure comes about. People think it\\'s easier than it really is. Loving is often easy, but the long-term nurturing and sustaining of the love is work. I develop this theme more in my essay FAMILY.</b></font></td>\\r\\t</tr>\\r\\t<tr>\\r\\r</table>\\r\\r</td>\\r\\t\\t<td width=\"125\" align=\"center\" valign=\"top\"><br><br><br><! -- #include virtual=\"/includes/panel1.html\" -- >\\r</td>\\r\\t</tr>\\r</table></center>\\r<! -- #include virtual=\"/includes/footer.html\" -- >\\r\\r</body>\\r</html>\\r'"
      ]
     },
     "execution_count": 5,
     "metadata": {},
     "output_type": "execute_result"
    }
   ],
   "source": [
    "# Check Status of request response\n",
    "page.content"
   ]
  },
  {
   "cell_type": "markdown",
   "metadata": {},
   "source": [
    "## Beautiful Soup"
   ]
  },
  {
   "cell_type": "markdown",
   "metadata": {},
   "source": [
    "### Importing"
   ]
  },
  {
   "cell_type": "code",
   "execution_count": 6,
   "metadata": {},
   "outputs": [],
   "source": [
    "from bs4 import BeautifulSoup"
   ]
  },
  {
   "cell_type": "markdown",
   "metadata": {},
   "source": [
    "### Using Beautiful Soup"
   ]
  },
  {
   "cell_type": "code",
   "execution_count": 7,
   "metadata": {},
   "outputs": [
    {
     "data": {
      "text/plain": [
       "<!DOCTYPE HTML PUBLIC \"-//W3C//DTD HTML 3.2 Final//EN\">\n",
       " <html> <head> <title>Essay on Love by Arthur Lee Jacobson</title> <meta content=\"Trees,gardening, wild and domestic plant life are the specialty of author Arthur Lee Jacobson.\" name=\"description\"/> <meta content=\"trees, gardening, wild plants, domestic plants, gardening author, gardening books, Arthur Lee Jacobson, A L J, A L Jacobson, Arthur Jacobson, arthur lee, plants, flowers, seattle, washington\" name=\"keywords\"/> <meta content=\"document\" name=\"resource-type\"/> <meta content=\"BBEdit 4.5\" name=\"generator\"/> <meta content=\"all\" name=\"robots\"/> <meta content=\"Gardening\" name=\"classification\"/> <meta content=\"global\" name=\"distribution\"/> <meta content=\"general\" name=\"rating\"/> <meta content=\"2001 Arthur Lee Jacobson\" name=\"copyright\"/> <meta content=\"eriktyme@eriktyme.com\" name=\"author\"/> <meta content=\"en-us\" name=\"language\"/> </head> <body alink=\"#33CC33\" background=\"images/background1a.jpg\" bgcolor=\"#FFFFCC\" link=\"#0000FF\" text=\"#000000\" vlink=\"#FF00FF\"> <!-- -- #include virtual=\"/includes/header.html\" -- --> <br/><center><table border=\"0\" cellpadding=\"1\" cellspacing=\"2\"> <tr> <td align=\"center\" valign=\"top\" width=\"480\"> <table border=\"0\" cellpadding=\"1\" cellspacing=\"2\"> <tr> <td align=\"center\" valign=\"top\" width=\"480\"><font size=\"5\"><b>Love</b></font></td> </tr> <tr> <td align=\"left\" valign=\"top\" width=\"480\"><font size=\"3\"><b>    Of the fourteen essays I'm writing, only this one treats an emotion. That love is the most important emotion is the deduction. I think other emotions may be as important, but are not so powerfully moving or interesting to most of us. Love is exciting. There is no need to justify choosing to write about it. Are not most songs love songs? Are not most novels stories featuring love?</b></font></td> </tr> <tr> <td align=\"left\" valign=\"top\" width=\"480\"><font size=\"3\"><b>    Love in its broad sense is the feeling of strong attraction, and often attachment and protection. It is felt towards other people, towards pets, towards inanimate objects, towards abstractions such as patriotism, religious matters, hobbies, and I suppose nearly everything. It is multifaceted, and includes ordinary self-love, chivalrous love, carnal or sexual love, friendly love, family love. It is an emotion that is closely related to certain others, such as hope. At its simplest level it is what we strongly like.</b></font></td> </tr> <tr> <td align=\"left\" valign=\"top\" width=\"480\"><font size=\"3\"><b>    I have a hunch that love, like the rose, owes much of its appeal to our mainstream Western culture -- and that in some other societies it is by no means such a big deal. Somehow, especially in recent centuries, the notion of romantic love has become elevated far more than it used to be. Why this has happened is for social historians to explain; I don't know. I will merely say that if one reads the ancient Greeks and Romans, then it is obvious that today love is relatively more significant in our culture. A plethora of differences exist between us and people 2,000 years ago. That doesn't invalidate my observation that we moderns rate love more importantly now than our ancestors used to.</b></font></td> </tr> <tr> <td align=\"left\" valign=\"top\" width=\"480\"><font size=\"3\"><b>    It is presumed that sexual attraction, being instinctive, is comparatively constant over the centuries and across cultures. But let's be clear: sexual attraction is only one manifestation of love. One can be sexually aroused and still feel no love, just as a couple can be married and possess no mutual sexual appetite or love. Some people find they can fulfill sexual needs one way, and they love something else, such as a hobby or their work.</b></font></td> </tr> <tr> <td align=\"left\" valign=\"top\" width=\"480\"><font size=\"3\"><b>    When sexual desire, or go ahead and call it sexual need, is very strong, it certainly gets called love. To be precise it may be best termed carnal love. Similarly, a glutton loves food, and an addict perversely loves whatever drug or activity he's hooked on. Sexual love, then, is not necessarily anything more than an equivalent of an animal being in heat. On the other hand, if two people share a wholehearted, broad-based love for each other, then their sexual relations may be more an expression of their affection than of their instinctive drive.</b></font></td> </tr> <tr> <td align=\"left\" valign=\"top\" width=\"480\"><font size=\"3\"><b>    Yes, love and sex are too much confused. It is frightful how many beastly rapes and molestations take place, which are sexual but devoid of love completely. Love can be found thriving far from sex, as in a mother's love for her child, or a religious order's mystical love of doing glory to God, or of the knight's chivalrous love towards his country and rulers. The soldier's courage to defend his family is a kind of love in action. The artist who starves in an attic, living a celibate existence to produce masterpieces, is illuminated by love. Childhood friends who go through life together know love, though not sex, as regards each other. Have I made my point obvious?</b></font></td> </tr> <tr> <td align=\"left\" valign=\"top\" width=\"480\"><font size=\"3\"><b>    It is, I'm sure. But I'm on a roll and don't want to stop yet. Love's antithesis is hate. Hate is often associated with harm or destruction, even death. But again, it is not <i>equal</i> to those. It is strongly held negative emotions, even as love is strongly held positive ones.</b><br/><br/></font></td> </tr> <tr> <td align=\"left\" valign=\"top\" width=\"480\"><font size=\"3\"><b>    The golden rule, \"Love thy neighbor as thyself,\" or \"do unto others as you would have them do unto you,\" helps us see that if we want people to enjoy peaceful, content existence, we must work together cooperatively, and not let our passions, of either love or hate, get us out of line.</b></font></td> </tr> <tr> <td align=\"left\" valign=\"top\" width=\"480\"><font size=\"3\"><b>    One thing I'm sure of, is the world would be a better place if all of us individuals had someone or something we loved. I feel sorry for people who are neutral about this, indifferent regarding that, and don't know what really turns them on. I almost wish there was a law against having no love in one's life. Well, that kind of thinking is too extreme. Is it possible, without love, to be healthy in a mental sense? To be balanced? Can an individual's self-esteem be proper without love? It is certainly possible for a person to be <i>temporarily</i> devoid of love. For example, pick up a random individual, transport him across the planet, and set him into a strange culture, where he knows no one, he knows not a word of the language. He will be in shock, and will love no one, and probably his only love then would be of longing for his familiar life. Temporarily, his shock, his sadness, and his bewilderment will be more powerful feelings than any love he feels.</b></font></td> </tr> <tr> <td align=\"left\" valign=\"top\" width=\"480\"><font size=\"3\"><b>    Since love can be felt in so many different ways, it is a good thing our culture allows people freedom to choose. All the more wondrous that some of us seem to love nothing! What explains this? Are children who were in dysfunctional, abusive situations forced to retreat as it were into a shell, to be calloused against freely opening themselves to the flow of their emotions? Are certain people born with chemical imbalances in their brains which make it impossible for them to feel love? Are some people so prone to liking numerous things that they tend to not strongly like (<i>i.e.,</i> love) any one thing in particular?</b></font></td> </tr> <tr> <td align=\"left\" valign=\"top\" width=\"480\"><font size=\"3\"><b>    To love is to express oneself. Usually one's love is obviously manifested. It may be that even as some of us are generally shy and inhibited, some of us are poorer at loving. Doubtless there are complex, peculiar combinations of factors operating in every individual case. And most of our general rules or commonplace assumptions are based on behavior prevalent in our <i>culture.</i></b></font></td> </tr> <tr> <td align=\"left\" valign=\"top\" width=\"480\"><font size=\"3\"><b>    The chief motivating factor in many of our lives is love. People go to extraordinary lengths and costs to find love, or to give it, to keep it, to hope for it. In some cultures, such as primitive stone-age ones, I'm sure that basic food gathering and survival work is more dominating than any interpretation of love other than love of continuing to <i>live.</i></b></font></td> </tr> <tr> <td align=\"left\" valign=\"top\" width=\"480\"><font size=\"3\"><b>    In my life, I prefer to give my time to being with people I love, rather than being paid to spend time working for people whom I don't love. Similarly, I would rather remain single and wait until I can marry a woman with whom I can share profound love, than cohabit with a woman about who I am indifferent. It is often said \"what really counts is that a person does what he or she loves.\" Yet how many of us <i>really</i> do? How many of us <i>would</i> keep doing our jobs if we didn't need the money? Few of us. Even if I was suddenly rich financially, I'd still do most of what I do now; I'd not fundamentally change.</b></font></td> </tr> <tr> <td align=\"left\" valign=\"top\" width=\"480\"><font size=\"3\"><b>    No, money won't alter me much. Love may. If I decide to marry a woman, and she is eager also, I would stop merely doing whatever I please, and start giving my attention equally to pleasing her. Ideally we'd work very well together. But times would occur when we'd disagree, so I'd yield whenever I possibly could, out of my love and respect, and concern for our marriage.</b></font></td> </tr> <tr> <td align=\"left\" valign=\"top\" width=\"480\"><font size=\"3\"><b>    The love that motivates people to give freely their very lives is greatly inspiring. If martyrs didn't have love propelling them, then they at any rate had <i>strong</i> emotions. Sometimes I dream about hypothetical situations that test my love. For example, if the woman I think the very world of, asked me to give up my Seattle existence, to live with her 1,000 miles away -- would I do it? Maybe. If I figured there was good odds of living happily ever after, I might. But such questions are answered not just by deliberation, they're affected by emotion. Love can blind us to logic, reason and common sense. I love so many things about my life in Seattle, and there are so many eligible women here  -- that the chance of me heading out of town, loveblind, is remote. But that I <i>think</i> about such things, shows I am moved mightily by love.</b></font></td> </tr> <tr> <td align=\"left\" valign=\"top\" width=\"480\"><font size=\"3\"><b>    I am so glad to love my work, to love my family and friends, to love my city, and to love nature. Yes, I want to also love a woman who loves me. That will come. So far it has alway been one-way rather than mutual. I'm particular, patient, and confident. It's sort of a \"patting oneself on the back\" to say it, but I wish more people would show restraint about forming intimate relationships of the sort that are called marriages. Too many young folks hurry into such arrangements, and all too soon failure comes about. People think it's easier than it really is. Loving is often easy, but the long-term nurturing and sustaining of the love is work. I develop this theme more in my essay FAMILY.</b></font></td> </tr> <tr> </tr></table> </td> <td align=\"center\" valign=\"top\" width=\"125\"><br/><br/><br/><!-- -- #include virtual=\"/includes/panel1.html\" -- --> </td> </tr> </table></center> <!-- -- #include virtual=\"/includes/footer.html\" -- --> </body> </html> "
      ]
     },
     "execution_count": 7,
     "metadata": {},
     "output_type": "execute_result"
    }
   ],
   "source": [
    "# Instantiate BeautifulSoup class\n",
    "soup = BeautifulSoup(page.content, 'html.parser')\n",
    "\n",
    "soup"
   ]
  },
  {
   "cell_type": "markdown",
   "metadata": {},
   "source": [
    "### .prettify()"
   ]
  },
  {
   "cell_type": "code",
   "execution_count": 8,
   "metadata": {
    "scrolled": false
   },
   "outputs": [
    {
     "name": "stdout",
     "output_type": "stream",
     "text": [
      "<!DOCTYPE HTML PUBLIC \"-//W3C//DTD HTML 3.2 Final//EN\">\n",
      "<html>\n",
      " <head>\n",
      "  <title>\n",
      "   Essay on Love by Arthur Lee Jacobson\n",
      "  </title>\n",
      "  <meta content=\"Trees,gardening, wild and domestic plant life are the specialty of author Arthur Lee Jacobson.\" name=\"description\"/>\n",
      "  <meta content=\"trees, gardening, wild plants, domestic plants, gardening author, gardening books, Arthur Lee Jacobson, A L J, A L Jacobson, Arthur Jacobson, arthur lee, plants, flowers, seattle, washington\" name=\"keywords\"/>\n",
      "  <meta content=\"document\" name=\"resource-type\"/>\n",
      "  <meta content=\"BBEdit 4.5\" name=\"generator\"/>\n",
      "  <meta content=\"all\" name=\"robots\"/>\n",
      "  <meta content=\"Gardening\" name=\"classification\"/>\n",
      "  <meta content=\"global\" name=\"distribution\"/>\n",
      "  <meta content=\"general\" name=\"rating\"/>\n",
      "  <meta content=\"2001 Arthur Lee Jacobson\" name=\"copyright\"/>\n",
      "  <meta content=\"eriktyme@eriktyme.com\" name=\"author\"/>\n",
      "  <meta content=\"en-us\" name=\"language\"/>\n",
      " </head>\n",
      " <body alink=\"#33CC33\" background=\"images/background1a.jpg\" bgcolor=\"#FFFFCC\" link=\"#0000FF\" text=\"#000000\" vlink=\"#FF00FF\">\n",
      "  <!-- -- #include virtual=\"/includes/header.html\" -- -->\n",
      "  <br/>\n",
      "  <center>\n",
      "   <table border=\"0\" cellpadding=\"1\" cellspacing=\"2\">\n",
      "    <tr>\n",
      "     <td align=\"center\" valign=\"top\" width=\"480\">\n",
      "      <table border=\"0\" cellpadding=\"1\" cellspacing=\"2\">\n",
      "       <tr>\n",
      "        <td align=\"center\" valign=\"top\" width=\"480\">\n",
      "         <font size=\"5\">\n",
      "          <b>\n",
      "           Love\n",
      "          </b>\n",
      "         </font>\n",
      "        </td>\n",
      "       </tr>\n",
      "       <tr>\n",
      "        <td align=\"left\" valign=\"top\" width=\"480\">\n",
      "         <font size=\"3\">\n",
      "          <b>\n",
      "           Of the fourteen essays I'm writing, only this one treats an emotion. That love is the most important emotion is the deduction. I think other emotions may be as important, but are not so powerfully moving or interesting to most of us. Love is exciting. There is no need to justify choosing to write about it. Are not most songs love songs? Are not most novels stories featuring love?\n",
      "          </b>\n",
      "         </font>\n",
      "        </td>\n",
      "       </tr>\n",
      "       <tr>\n",
      "        <td align=\"left\" valign=\"top\" width=\"480\">\n",
      "         <font size=\"3\">\n",
      "          <b>\n",
      "           Love in its broad sense is the feeling of strong attraction, and often attachment and protection. It is felt towards other people, towards pets, towards inanimate objects, towards abstractions such as patriotism, religious matters, hobbies, and I suppose nearly everything. It is multifaceted, and includes ordinary self-love, chivalrous love, carnal or sexual love, friendly love, family love. It is an emotion that is closely related to certain others, such as hope. At its simplest level it is what we strongly like.\n",
      "          </b>\n",
      "         </font>\n",
      "        </td>\n",
      "       </tr>\n",
      "       <tr>\n",
      "        <td align=\"left\" valign=\"top\" width=\"480\">\n",
      "         <font size=\"3\">\n",
      "          <b>\n",
      "           I have a hunch that love, like the rose, owes much of its appeal to our mainstream Western culture -- and that in some other societies it is by no means such a big deal. Somehow, especially in recent centuries, the notion of romantic love has become elevated far more than it used to be. Why this has happened is for social historians to explain; I don't know. I will merely say that if one reads the ancient Greeks and Romans, then it is obvious that today love is relatively more significant in our culture. A plethora of differences exist between us and people 2,000 years ago. That doesn't invalidate my observation that we moderns rate love more importantly now than our ancestors used to.\n",
      "          </b>\n",
      "         </font>\n",
      "        </td>\n",
      "       </tr>\n",
      "       <tr>\n",
      "        <td align=\"left\" valign=\"top\" width=\"480\">\n",
      "         <font size=\"3\">\n",
      "          <b>\n",
      "           It is presumed that sexual attraction, being instinctive, is comparatively constant over the centuries and across cultures. But let's be clear: sexual attraction is only one manifestation of love. One can be sexually aroused and still feel no love, just as a couple can be married and possess no mutual sexual appetite or love. Some people find they can fulfill sexual needs one way, and they love something else, such as a hobby or their work.\n",
      "          </b>\n",
      "         </font>\n",
      "        </td>\n",
      "       </tr>\n",
      "       <tr>\n",
      "        <td align=\"left\" valign=\"top\" width=\"480\">\n",
      "         <font size=\"3\">\n",
      "          <b>\n",
      "           When sexual desire, or go ahead and call it sexual need, is very strong, it certainly gets called love. To be precise it may be best termed carnal love. Similarly, a glutton loves food, and an addict perversely loves whatever drug or activity he's hooked on. Sexual love, then, is not necessarily anything more than an equivalent of an animal being in heat. On the other hand, if two people share a wholehearted, broad-based love for each other, then their sexual relations may be more an expression of their affection than of their instinctive drive.\n",
      "          </b>\n",
      "         </font>\n",
      "        </td>\n",
      "       </tr>\n",
      "       <tr>\n",
      "        <td align=\"left\" valign=\"top\" width=\"480\">\n",
      "         <font size=\"3\">\n",
      "          <b>\n",
      "           Yes, love and sex are too much confused. It is frightful how many beastly rapes and molestations take place, which are sexual but devoid of love completely. Love can be found thriving far from sex, as in a mother's love for her child, or a religious order's mystical love of doing glory to God, or of the knight's chivalrous love towards his country and rulers. The soldier's courage to defend his family is a kind of love in action. The artist who starves in an attic, living a celibate existence to produce masterpieces, is illuminated by love. Childhood friends who go through life together know love, though not sex, as regards each other. Have I made my point obvious?\n",
      "          </b>\n",
      "         </font>\n",
      "        </td>\n",
      "       </tr>\n",
      "       <tr>\n",
      "        <td align=\"left\" valign=\"top\" width=\"480\">\n",
      "         <font size=\"3\">\n",
      "          <b>\n",
      "           It is, I'm sure. But I'm on a roll and don't want to stop yet. Love's antithesis is hate. Hate is often associated with harm or destruction, even death. But again, it is not\n",
      "           <i>\n",
      "            equal\n",
      "           </i>\n",
      "           to those. It is strongly held negative emotions, even as love is strongly held positive ones.\n",
      "          </b>\n",
      "          <br/>\n",
      "          <br/>\n",
      "         </font>\n",
      "        </td>\n",
      "       </tr>\n",
      "       <tr>\n",
      "        <td align=\"left\" valign=\"top\" width=\"480\">\n",
      "         <font size=\"3\">\n",
      "          <b>\n",
      "           The golden rule, \"Love thy neighbor as thyself,\" or \"do unto others as you would have them do unto you,\" helps us see that if we want people to enjoy peaceful, content existence, we must work together cooperatively, and not let our passions, of either love or hate, get us out of line.\n",
      "          </b>\n",
      "         </font>\n",
      "        </td>\n",
      "       </tr>\n",
      "       <tr>\n",
      "        <td align=\"left\" valign=\"top\" width=\"480\">\n",
      "         <font size=\"3\">\n",
      "          <b>\n",
      "           One thing I'm sure of, is the world would be a better place if all of us individuals had someone or something we loved. I feel sorry for people who are neutral about this, indifferent regarding that, and don't know what really turns them on. I almost wish there was a law against having no love in one's life. Well, that kind of thinking is too extreme. Is it possible, without love, to be healthy in a mental sense? To be balanced? Can an individual's self-esteem be proper without love? It is certainly possible for a person to be\n",
      "           <i>\n",
      "            temporarily\n",
      "           </i>\n",
      "           devoid of love. For example, pick up a random individual, transport him across the planet, and set him into a strange culture, where he knows no one, he knows not a word of the language. He will be in shock, and will love no one, and probably his only love then would be of longing for his familiar life. Temporarily, his shock, his sadness, and his bewilderment will be more powerful feelings than any love he feels.\n",
      "          </b>\n",
      "         </font>\n",
      "        </td>\n",
      "       </tr>\n",
      "       <tr>\n",
      "        <td align=\"left\" valign=\"top\" width=\"480\">\n",
      "         <font size=\"3\">\n",
      "          <b>\n",
      "           Since love can be felt in so many different ways, it is a good thing our culture allows people freedom to choose. All the more wondrous that some of us seem to love nothing! What explains this? Are children who were in dysfunctional, abusive situations forced to retreat as it were into a shell, to be calloused against freely opening themselves to the flow of their emotions? Are certain people born with chemical imbalances in their brains which make it impossible for them to feel love? Are some people so prone to liking numerous things that they tend to not strongly like (\n",
      "           <i>\n",
      "            i.e.,\n",
      "           </i>\n",
      "           love) any one thing in particular?\n",
      "          </b>\n",
      "         </font>\n",
      "        </td>\n",
      "       </tr>\n",
      "       <tr>\n",
      "        <td align=\"left\" valign=\"top\" width=\"480\">\n",
      "         <font size=\"3\">\n",
      "          <b>\n",
      "           To love is to express oneself. Usually one's love is obviously manifested. It may be that even as some of us are generally shy and inhibited, some of us are poorer at loving. Doubtless there are complex, peculiar combinations of factors operating in every individual case. And most of our general rules or commonplace assumptions are based on behavior prevalent in our\n",
      "           <i>\n",
      "            culture.\n",
      "           </i>\n",
      "          </b>\n",
      "         </font>\n",
      "        </td>\n",
      "       </tr>\n",
      "       <tr>\n",
      "        <td align=\"left\" valign=\"top\" width=\"480\">\n",
      "         <font size=\"3\">\n",
      "          <b>\n",
      "           The chief motivating factor in many of our lives is love. People go to extraordinary lengths and costs to find love, or to give it, to keep it, to hope for it. In some cultures, such as primitive stone-age ones, I'm sure that basic food gathering and survival work is more dominating than any interpretation of love other than love of continuing to\n",
      "           <i>\n",
      "            live.\n",
      "           </i>\n",
      "          </b>\n",
      "         </font>\n",
      "        </td>\n",
      "       </tr>\n",
      "       <tr>\n",
      "        <td align=\"left\" valign=\"top\" width=\"480\">\n",
      "         <font size=\"3\">\n",
      "          <b>\n",
      "           In my life, I prefer to give my time to being with people I love, rather than being paid to spend time working for people whom I don't love. Similarly, I would rather remain single and wait until I can marry a woman with whom I can share profound love, than cohabit with a woman about who I am indifferent. It is often said \"what really counts is that a person does what he or she loves.\" Yet how many of us\n",
      "           <i>\n",
      "            really\n",
      "           </i>\n",
      "           do? How many of us\n",
      "           <i>\n",
      "            would\n",
      "           </i>\n",
      "           keep doing our jobs if we didn't need the money? Few of us. Even if I was suddenly rich financially, I'd still do most of what I do now; I'd not fundamentally change.\n",
      "          </b>\n",
      "         </font>\n",
      "        </td>\n",
      "       </tr>\n",
      "       <tr>\n",
      "        <td align=\"left\" valign=\"top\" width=\"480\">\n",
      "         <font size=\"3\">\n",
      "          <b>\n",
      "           No, money won't alter me much. Love may. If I decide to marry a woman, and she is eager also, I would stop merely doing whatever I please, and start giving my attention equally to pleasing her. Ideally we'd work very well together. But times would occur when we'd disagree, so I'd yield whenever I possibly could, out of my love and respect, and concern for our marriage.\n",
      "          </b>\n",
      "         </font>\n",
      "        </td>\n",
      "       </tr>\n",
      "       <tr>\n",
      "        <td align=\"left\" valign=\"top\" width=\"480\">\n",
      "         <font size=\"3\">\n",
      "          <b>\n",
      "           The love that motivates people to give freely their very lives is greatly inspiring. If martyrs didn't have love propelling them, then they at any rate had\n",
      "           <i>\n",
      "            strong\n",
      "           </i>\n",
      "           emotions. Sometimes I dream about hypothetical situations that test my love. For example, if the woman I think the very world of, asked me to give up my Seattle existence, to live with her 1,000 miles away -- would I do it? Maybe. If I figured there was good odds of living happily ever after, I might. But such questions are answered not just by deliberation, they're affected by emotion. Love can blind us to logic, reason and common sense. I love so many things about my life in Seattle, and there are so many eligible women here  -- that the chance of me heading out of town, loveblind, is remote. But that I\n",
      "           <i>\n",
      "            think\n",
      "           </i>\n",
      "           about such things, shows I am moved mightily by love.\n",
      "          </b>\n",
      "         </font>\n",
      "        </td>\n",
      "       </tr>\n",
      "       <tr>\n",
      "        <td align=\"left\" valign=\"top\" width=\"480\">\n",
      "         <font size=\"3\">\n",
      "          <b>\n",
      "           I am so glad to love my work, to love my family and friends, to love my city, and to love nature. Yes, I want to also love a woman who loves me. That will come. So far it has alway been one-way rather than mutual. I'm particular, patient, and confident. It's sort of a \"patting oneself on the back\" to say it, but I wish more people would show restraint about forming intimate relationships of the sort that are called marriages. Too many young folks hurry into such arrangements, and all too soon failure comes about. People think it's easier than it really is. Loving is often easy, but the long-term nurturing and sustaining of the love is work. I develop this theme more in my essay FAMILY.\n",
      "          </b>\n",
      "         </font>\n",
      "        </td>\n",
      "       </tr>\n",
      "       <tr>\n",
      "       </tr>\n",
      "      </table>\n",
      "     </td>\n",
      "     <td align=\"center\" valign=\"top\" width=\"125\">\n",
      "      <br/>\n",
      "      <br/>\n",
      "      <br/>\n",
      "      <!-- -- #include virtual=\"/includes/panel1.html\" -- -->\n",
      "     </td>\n",
      "    </tr>\n",
      "   </table>\n",
      "  </center>\n",
      "  <!-- -- #include virtual=\"/includes/footer.html\" -- -->\n",
      " </body>\n",
      "</html>\n",
      "\n"
     ]
    }
   ],
   "source": [
    "#NOTE: Prettify only works for the full document and the .find() method\n",
    "print(soup.prettify())"
   ]
  },
  {
   "cell_type": "markdown",
   "metadata": {},
   "source": [
    "### Converting to a List"
   ]
  },
  {
   "cell_type": "code",
   "execution_count": 9,
   "metadata": {},
   "outputs": [
    {
     "data": {
      "text/plain": [
       "['HTML PUBLIC \"-//W3C//DTD HTML 3.2 Final//EN\"',\n",
       " ' ',\n",
       " <html> <head> <title>Essay on Love by Arthur Lee Jacobson</title> <meta content=\"Trees,gardening, wild and domestic plant life are the specialty of author Arthur Lee Jacobson.\" name=\"description\"/> <meta content=\"trees, gardening, wild plants, domestic plants, gardening author, gardening books, Arthur Lee Jacobson, A L J, A L Jacobson, Arthur Jacobson, arthur lee, plants, flowers, seattle, washington\" name=\"keywords\"/> <meta content=\"document\" name=\"resource-type\"/> <meta content=\"BBEdit 4.5\" name=\"generator\"/> <meta content=\"all\" name=\"robots\"/> <meta content=\"Gardening\" name=\"classification\"/> <meta content=\"global\" name=\"distribution\"/> <meta content=\"general\" name=\"rating\"/> <meta content=\"2001 Arthur Lee Jacobson\" name=\"copyright\"/> <meta content=\"eriktyme@eriktyme.com\" name=\"author\"/> <meta content=\"en-us\" name=\"language\"/> </head> <body alink=\"#33CC33\" background=\"images/background1a.jpg\" bgcolor=\"#FFFFCC\" link=\"#0000FF\" text=\"#000000\" vlink=\"#FF00FF\"> <!-- -- #include virtual=\"/includes/header.html\" -- --> <br/><center><table border=\"0\" cellpadding=\"1\" cellspacing=\"2\"> <tr> <td align=\"center\" valign=\"top\" width=\"480\"> <table border=\"0\" cellpadding=\"1\" cellspacing=\"2\"> <tr> <td align=\"center\" valign=\"top\" width=\"480\"><font size=\"5\"><b>Love</b></font></td> </tr> <tr> <td align=\"left\" valign=\"top\" width=\"480\"><font size=\"3\"><b>    Of the fourteen essays I'm writing, only this one treats an emotion. That love is the most important emotion is the deduction. I think other emotions may be as important, but are not so powerfully moving or interesting to most of us. Love is exciting. There is no need to justify choosing to write about it. Are not most songs love songs? Are not most novels stories featuring love?</b></font></td> </tr> <tr> <td align=\"left\" valign=\"top\" width=\"480\"><font size=\"3\"><b>    Love in its broad sense is the feeling of strong attraction, and often attachment and protection. It is felt towards other people, towards pets, towards inanimate objects, towards abstractions such as patriotism, religious matters, hobbies, and I suppose nearly everything. It is multifaceted, and includes ordinary self-love, chivalrous love, carnal or sexual love, friendly love, family love. It is an emotion that is closely related to certain others, such as hope. At its simplest level it is what we strongly like.</b></font></td> </tr> <tr> <td align=\"left\" valign=\"top\" width=\"480\"><font size=\"3\"><b>    I have a hunch that love, like the rose, owes much of its appeal to our mainstream Western culture -- and that in some other societies it is by no means such a big deal. Somehow, especially in recent centuries, the notion of romantic love has become elevated far more than it used to be. Why this has happened is for social historians to explain; I don't know. I will merely say that if one reads the ancient Greeks and Romans, then it is obvious that today love is relatively more significant in our culture. A plethora of differences exist between us and people 2,000 years ago. That doesn't invalidate my observation that we moderns rate love more importantly now than our ancestors used to.</b></font></td> </tr> <tr> <td align=\"left\" valign=\"top\" width=\"480\"><font size=\"3\"><b>    It is presumed that sexual attraction, being instinctive, is comparatively constant over the centuries and across cultures. But let's be clear: sexual attraction is only one manifestation of love. One can be sexually aroused and still feel no love, just as a couple can be married and possess no mutual sexual appetite or love. Some people find they can fulfill sexual needs one way, and they love something else, such as a hobby or their work.</b></font></td> </tr> <tr> <td align=\"left\" valign=\"top\" width=\"480\"><font size=\"3\"><b>    When sexual desire, or go ahead and call it sexual need, is very strong, it certainly gets called love. To be precise it may be best termed carnal love. Similarly, a glutton loves food, and an addict perversely loves whatever drug or activity he's hooked on. Sexual love, then, is not necessarily anything more than an equivalent of an animal being in heat. On the other hand, if two people share a wholehearted, broad-based love for each other, then their sexual relations may be more an expression of their affection than of their instinctive drive.</b></font></td> </tr> <tr> <td align=\"left\" valign=\"top\" width=\"480\"><font size=\"3\"><b>    Yes, love and sex are too much confused. It is frightful how many beastly rapes and molestations take place, which are sexual but devoid of love completely. Love can be found thriving far from sex, as in a mother's love for her child, or a religious order's mystical love of doing glory to God, or of the knight's chivalrous love towards his country and rulers. The soldier's courage to defend his family is a kind of love in action. The artist who starves in an attic, living a celibate existence to produce masterpieces, is illuminated by love. Childhood friends who go through life together know love, though not sex, as regards each other. Have I made my point obvious?</b></font></td> </tr> <tr> <td align=\"left\" valign=\"top\" width=\"480\"><font size=\"3\"><b>    It is, I'm sure. But I'm on a roll and don't want to stop yet. Love's antithesis is hate. Hate is often associated with harm or destruction, even death. But again, it is not <i>equal</i> to those. It is strongly held negative emotions, even as love is strongly held positive ones.</b><br/><br/></font></td> </tr> <tr> <td align=\"left\" valign=\"top\" width=\"480\"><font size=\"3\"><b>    The golden rule, \"Love thy neighbor as thyself,\" or \"do unto others as you would have them do unto you,\" helps us see that if we want people to enjoy peaceful, content existence, we must work together cooperatively, and not let our passions, of either love or hate, get us out of line.</b></font></td> </tr> <tr> <td align=\"left\" valign=\"top\" width=\"480\"><font size=\"3\"><b>    One thing I'm sure of, is the world would be a better place if all of us individuals had someone or something we loved. I feel sorry for people who are neutral about this, indifferent regarding that, and don't know what really turns them on. I almost wish there was a law against having no love in one's life. Well, that kind of thinking is too extreme. Is it possible, without love, to be healthy in a mental sense? To be balanced? Can an individual's self-esteem be proper without love? It is certainly possible for a person to be <i>temporarily</i> devoid of love. For example, pick up a random individual, transport him across the planet, and set him into a strange culture, where he knows no one, he knows not a word of the language. He will be in shock, and will love no one, and probably his only love then would be of longing for his familiar life. Temporarily, his shock, his sadness, and his bewilderment will be more powerful feelings than any love he feels.</b></font></td> </tr> <tr> <td align=\"left\" valign=\"top\" width=\"480\"><font size=\"3\"><b>    Since love can be felt in so many different ways, it is a good thing our culture allows people freedom to choose. All the more wondrous that some of us seem to love nothing! What explains this? Are children who were in dysfunctional, abusive situations forced to retreat as it were into a shell, to be calloused against freely opening themselves to the flow of their emotions? Are certain people born with chemical imbalances in their brains which make it impossible for them to feel love? Are some people so prone to liking numerous things that they tend to not strongly like (<i>i.e.,</i> love) any one thing in particular?</b></font></td> </tr> <tr> <td align=\"left\" valign=\"top\" width=\"480\"><font size=\"3\"><b>    To love is to express oneself. Usually one's love is obviously manifested. It may be that even as some of us are generally shy and inhibited, some of us are poorer at loving. Doubtless there are complex, peculiar combinations of factors operating in every individual case. And most of our general rules or commonplace assumptions are based on behavior prevalent in our <i>culture.</i></b></font></td> </tr> <tr> <td align=\"left\" valign=\"top\" width=\"480\"><font size=\"3\"><b>    The chief motivating factor in many of our lives is love. People go to extraordinary lengths and costs to find love, or to give it, to keep it, to hope for it. In some cultures, such as primitive stone-age ones, I'm sure that basic food gathering and survival work is more dominating than any interpretation of love other than love of continuing to <i>live.</i></b></font></td> </tr> <tr> <td align=\"left\" valign=\"top\" width=\"480\"><font size=\"3\"><b>    In my life, I prefer to give my time to being with people I love, rather than being paid to spend time working for people whom I don't love. Similarly, I would rather remain single and wait until I can marry a woman with whom I can share profound love, than cohabit with a woman about who I am indifferent. It is often said \"what really counts is that a person does what he or she loves.\" Yet how many of us <i>really</i> do? How many of us <i>would</i> keep doing our jobs if we didn't need the money? Few of us. Even if I was suddenly rich financially, I'd still do most of what I do now; I'd not fundamentally change.</b></font></td> </tr> <tr> <td align=\"left\" valign=\"top\" width=\"480\"><font size=\"3\"><b>    No, money won't alter me much. Love may. If I decide to marry a woman, and she is eager also, I would stop merely doing whatever I please, and start giving my attention equally to pleasing her. Ideally we'd work very well together. But times would occur when we'd disagree, so I'd yield whenever I possibly could, out of my love and respect, and concern for our marriage.</b></font></td> </tr> <tr> <td align=\"left\" valign=\"top\" width=\"480\"><font size=\"3\"><b>    The love that motivates people to give freely their very lives is greatly inspiring. If martyrs didn't have love propelling them, then they at any rate had <i>strong</i> emotions. Sometimes I dream about hypothetical situations that test my love. For example, if the woman I think the very world of, asked me to give up my Seattle existence, to live with her 1,000 miles away -- would I do it? Maybe. If I figured there was good odds of living happily ever after, I might. But such questions are answered not just by deliberation, they're affected by emotion. Love can blind us to logic, reason and common sense. I love so many things about my life in Seattle, and there are so many eligible women here  -- that the chance of me heading out of town, loveblind, is remote. But that I <i>think</i> about such things, shows I am moved mightily by love.</b></font></td> </tr> <tr> <td align=\"left\" valign=\"top\" width=\"480\"><font size=\"3\"><b>    I am so glad to love my work, to love my family and friends, to love my city, and to love nature. Yes, I want to also love a woman who loves me. That will come. So far it has alway been one-way rather than mutual. I'm particular, patient, and confident. It's sort of a \"patting oneself on the back\" to say it, but I wish more people would show restraint about forming intimate relationships of the sort that are called marriages. Too many young folks hurry into such arrangements, and all too soon failure comes about. People think it's easier than it really is. Loving is often easy, but the long-term nurturing and sustaining of the love is work. I develop this theme more in my essay FAMILY.</b></font></td> </tr> <tr> </tr></table> </td> <td align=\"center\" valign=\"top\" width=\"125\"><br/><br/><br/><!-- -- #include virtual=\"/includes/panel1.html\" -- --> </td> </tr> </table></center> <!-- -- #include virtual=\"/includes/footer.html\" -- --> </body> </html>,\n",
       " ' ']"
      ]
     },
     "execution_count": 9,
     "metadata": {},
     "output_type": "execute_result"
    }
   ],
   "source": [
    "# Tags may contain strings and other tags. These elements are the tag’s children.\n",
    "list(soup.children)\n",
    "\n",
    "# print(len(list(soup.children)))"
   ]
  },
  {
   "cell_type": "markdown",
   "metadata": {},
   "source": [
    "### Extracting Beautiful Soup Elements"
   ]
  },
  {
   "cell_type": "code",
   "execution_count": 10,
   "metadata": {},
   "outputs": [
    {
     "data": {
      "text/plain": [
       "[bs4.element.Doctype,\n",
       " bs4.element.NavigableString,\n",
       " bs4.element.Tag,\n",
       " bs4.element.NavigableString]"
      ]
     },
     "execution_count": 10,
     "metadata": {},
     "output_type": "execute_result"
    }
   ],
   "source": [
    "# We can traverse through an HTML page and extract other tags and text\n",
    "# The below example shows the types of iterables available in the object created from the HTML Document\n",
    "# .Tag allows us to dive deeper into the document i.e we can look for HTML attributes like .class and if needed go deeper into the document from there\n",
    "[type(item) for item in list(soup.children)]"
   ]
  },
  {
   "cell_type": "markdown",
   "metadata": {},
   "source": [
    "### Assinging Variables from Beautiful Soup"
   ]
  },
  {
   "cell_type": "code",
   "execution_count": 11,
   "metadata": {},
   "outputs": [
    {
     "name": "stdout",
     "output_type": "stream",
     "text": [
      "<table border=\"0\" cellpadding=\"1\" cellspacing=\"2\">\n",
      " <tr>\n",
      "  <td align=\"center\" valign=\"top\" width=\"480\">\n",
      "   <table border=\"0\" cellpadding=\"1\" cellspacing=\"2\">\n",
      "    <tr>\n",
      "     <td align=\"center\" valign=\"top\" width=\"480\">\n",
      "      <font size=\"5\">\n",
      "       <b>\n",
      "        Love\n",
      "       </b>\n",
      "      </font>\n",
      "     </td>\n",
      "    </tr>\n",
      "    <tr>\n",
      "     <td align=\"left\" valign=\"top\" width=\"480\">\n",
      "      <font size=\"3\">\n",
      "       <b>\n",
      "        Of the fourteen essays I'm writing, only this one treats an emotion. That love is the most important emotion is the deduction. I think other emotions may be as important, but are not so powerfully moving or interesting to most of us. Love is exciting. There is no need to justify choosing to write about it. Are not most songs love songs? Are not most novels stories featuring love?\n",
      "       </b>\n",
      "      </font>\n",
      "     </td>\n",
      "    </tr>\n",
      "    <tr>\n",
      "     <td align=\"left\" valign=\"top\" width=\"480\">\n",
      "      <font size=\"3\">\n",
      "       <b>\n",
      "        Love in its broad sense is the feeling of strong attraction, and often attachment and protection. It is felt towards other people, towards pets, towards inanimate objects, towards abstractions such as patriotism, religious matters, hobbies, and I suppose nearly everything. It is multifaceted, and includes ordinary self-love, chivalrous love, carnal or sexual love, friendly love, family love. It is an emotion that is closely related to certain others, such as hope. At its simplest level it is what we strongly like.\n",
      "       </b>\n",
      "      </font>\n",
      "     </td>\n",
      "    </tr>\n",
      "    <tr>\n",
      "     <td align=\"left\" valign=\"top\" width=\"480\">\n",
      "      <font size=\"3\">\n",
      "       <b>\n",
      "        I have a hunch that love, like the rose, owes much of its appeal to our mainstream Western culture -- and that in some other societies it is by no means such a big deal. Somehow, especially in recent centuries, the notion of romantic love has become elevated far more than it used to be. Why this has happened is for social historians to explain; I don't know. I will merely say that if one reads the ancient Greeks and Romans, then it is obvious that today love is relatively more significant in our culture. A plethora of differences exist between us and people 2,000 years ago. That doesn't invalidate my observation that we moderns rate love more importantly now than our ancestors used to.\n",
      "       </b>\n",
      "      </font>\n",
      "     </td>\n",
      "    </tr>\n",
      "    <tr>\n",
      "     <td align=\"left\" valign=\"top\" width=\"480\">\n",
      "      <font size=\"3\">\n",
      "       <b>\n",
      "        It is presumed that sexual attraction, being instinctive, is comparatively constant over the centuries and across cultures. But let's be clear: sexual attraction is only one manifestation of love. One can be sexually aroused and still feel no love, just as a couple can be married and possess no mutual sexual appetite or love. Some people find they can fulfill sexual needs one way, and they love something else, such as a hobby or their work.\n",
      "       </b>\n",
      "      </font>\n",
      "     </td>\n",
      "    </tr>\n",
      "    <tr>\n",
      "     <td align=\"left\" valign=\"top\" width=\"480\">\n",
      "      <font size=\"3\">\n",
      "       <b>\n",
      "        When sexual desire, or go ahead and call it sexual need, is very strong, it certainly gets called love. To be precise it may be best termed carnal love. Similarly, a glutton loves food, and an addict perversely loves whatever drug or activity he's hooked on. Sexual love, then, is not necessarily anything more than an equivalent of an animal being in heat. On the other hand, if two people share a wholehearted, broad-based love for each other, then their sexual relations may be more an expression of their affection than of their instinctive drive.\n",
      "       </b>\n",
      "      </font>\n",
      "     </td>\n",
      "    </tr>\n",
      "    <tr>\n",
      "     <td align=\"left\" valign=\"top\" width=\"480\">\n",
      "      <font size=\"3\">\n",
      "       <b>\n",
      "        Yes, love and sex are too much confused. It is frightful how many beastly rapes and molestations take place, which are sexual but devoid of love completely. Love can be found thriving far from sex, as in a mother's love for her child, or a religious order's mystical love of doing glory to God, or of the knight's chivalrous love towards his country and rulers. The soldier's courage to defend his family is a kind of love in action. The artist who starves in an attic, living a celibate existence to produce masterpieces, is illuminated by love. Childhood friends who go through life together know love, though not sex, as regards each other. Have I made my point obvious?\n",
      "       </b>\n",
      "      </font>\n",
      "     </td>\n",
      "    </tr>\n",
      "    <tr>\n",
      "     <td align=\"left\" valign=\"top\" width=\"480\">\n",
      "      <font size=\"3\">\n",
      "       <b>\n",
      "        It is, I'm sure. But I'm on a roll and don't want to stop yet. Love's antithesis is hate. Hate is often associated with harm or destruction, even death. But again, it is not\n",
      "        <i>\n",
      "         equal\n",
      "        </i>\n",
      "        to those. It is strongly held negative emotions, even as love is strongly held positive ones.\n",
      "       </b>\n",
      "       <br/>\n",
      "       <br/>\n",
      "      </font>\n",
      "     </td>\n",
      "    </tr>\n",
      "    <tr>\n",
      "     <td align=\"left\" valign=\"top\" width=\"480\">\n",
      "      <font size=\"3\">\n",
      "       <b>\n",
      "        The golden rule, \"Love thy neighbor as thyself,\" or \"do unto others as you would have them do unto you,\" helps us see that if we want people to enjoy peaceful, content existence, we must work together cooperatively, and not let our passions, of either love or hate, get us out of line.\n",
      "       </b>\n",
      "      </font>\n",
      "     </td>\n",
      "    </tr>\n",
      "    <tr>\n",
      "     <td align=\"left\" valign=\"top\" width=\"480\">\n",
      "      <font size=\"3\">\n",
      "       <b>\n",
      "        One thing I'm sure of, is the world would be a better place if all of us individuals had someone or something we loved. I feel sorry for people who are neutral about this, indifferent regarding that, and don't know what really turns them on. I almost wish there was a law against having no love in one's life. Well, that kind of thinking is too extreme. Is it possible, without love, to be healthy in a mental sense? To be balanced? Can an individual's self-esteem be proper without love? It is certainly possible for a person to be\n",
      "        <i>\n",
      "         temporarily\n",
      "        </i>\n",
      "        devoid of love. For example, pick up a random individual, transport him across the planet, and set him into a strange culture, where he knows no one, he knows not a word of the language. He will be in shock, and will love no one, and probably his only love then would be of longing for his familiar life. Temporarily, his shock, his sadness, and his bewilderment will be more powerful feelings than any love he feels.\n",
      "       </b>\n",
      "      </font>\n",
      "     </td>\n",
      "    </tr>\n",
      "    <tr>\n",
      "     <td align=\"left\" valign=\"top\" width=\"480\">\n",
      "      <font size=\"3\">\n",
      "       <b>\n",
      "        Since love can be felt in so many different ways, it is a good thing our culture allows people freedom to choose. All the more wondrous that some of us seem to love nothing! What explains this? Are children who were in dysfunctional, abusive situations forced to retreat as it were into a shell, to be calloused against freely opening themselves to the flow of their emotions? Are certain people born with chemical imbalances in their brains which make it impossible for them to feel love? Are some people so prone to liking numerous things that they tend to not strongly like (\n",
      "        <i>\n",
      "         i.e.,\n",
      "        </i>\n",
      "        love) any one thing in particular?\n",
      "       </b>\n",
      "      </font>\n",
      "     </td>\n",
      "    </tr>\n",
      "    <tr>\n",
      "     <td align=\"left\" valign=\"top\" width=\"480\">\n",
      "      <font size=\"3\">\n",
      "       <b>\n",
      "        To love is to express oneself. Usually one's love is obviously manifested. It may be that even as some of us are generally shy and inhibited, some of us are poorer at loving. Doubtless there are complex, peculiar combinations of factors operating in every individual case. And most of our general rules or commonplace assumptions are based on behavior prevalent in our\n",
      "        <i>\n",
      "         culture.\n",
      "        </i>\n",
      "       </b>\n",
      "      </font>\n",
      "     </td>\n",
      "    </tr>\n",
      "    <tr>\n",
      "     <td align=\"left\" valign=\"top\" width=\"480\">\n",
      "      <font size=\"3\">\n",
      "       <b>\n",
      "        The chief motivating factor in many of our lives is love. People go to extraordinary lengths and costs to find love, or to give it, to keep it, to hope for it. In some cultures, such as primitive stone-age ones, I'm sure that basic food gathering and survival work is more dominating than any interpretation of love other than love of continuing to\n",
      "        <i>\n",
      "         live.\n",
      "        </i>\n",
      "       </b>\n",
      "      </font>\n",
      "     </td>\n",
      "    </tr>\n",
      "    <tr>\n",
      "     <td align=\"left\" valign=\"top\" width=\"480\">\n",
      "      <font size=\"3\">\n",
      "       <b>\n",
      "        In my life, I prefer to give my time to being with people I love, rather than being paid to spend time working for people whom I don't love. Similarly, I would rather remain single and wait until I can marry a woman with whom I can share profound love, than cohabit with a woman about who I am indifferent. It is often said \"what really counts is that a person does what he or she loves.\" Yet how many of us\n",
      "        <i>\n",
      "         really\n",
      "        </i>\n",
      "        do? How many of us\n",
      "        <i>\n",
      "         would\n",
      "        </i>\n",
      "        keep doing our jobs if we didn't need the money? Few of us. Even if I was suddenly rich financially, I'd still do most of what I do now; I'd not fundamentally change.\n",
      "       </b>\n",
      "      </font>\n",
      "     </td>\n",
      "    </tr>\n",
      "    <tr>\n",
      "     <td align=\"left\" valign=\"top\" width=\"480\">\n",
      "      <font size=\"3\">\n",
      "       <b>\n",
      "        No, money won't alter me much. Love may. If I decide to marry a woman, and she is eager also, I would stop merely doing whatever I please, and start giving my attention equally to pleasing her. Ideally we'd work very well together. But times would occur when we'd disagree, so I'd yield whenever I possibly could, out of my love and respect, and concern for our marriage.\n",
      "       </b>\n",
      "      </font>\n",
      "     </td>\n",
      "    </tr>\n",
      "    <tr>\n",
      "     <td align=\"left\" valign=\"top\" width=\"480\">\n",
      "      <font size=\"3\">\n",
      "       <b>\n",
      "        The love that motivates people to give freely their very lives is greatly inspiring. If martyrs didn't have love propelling them, then they at any rate had\n",
      "        <i>\n",
      "         strong\n",
      "        </i>\n",
      "        emotions. Sometimes I dream about hypothetical situations that test my love. For example, if the woman I think the very world of, asked me to give up my Seattle existence, to live with her 1,000 miles away -- would I do it? Maybe. If I figured there was good odds of living happily ever after, I might. But such questions are answered not just by deliberation, they're affected by emotion. Love can blind us to logic, reason and common sense. I love so many things about my life in Seattle, and there are so many eligible women here  -- that the chance of me heading out of town, loveblind, is remote. But that I\n",
      "        <i>\n",
      "         think\n",
      "        </i>\n",
      "        about such things, shows I am moved mightily by love.\n",
      "       </b>\n",
      "      </font>\n",
      "     </td>\n",
      "    </tr>\n",
      "    <tr>\n",
      "     <td align=\"left\" valign=\"top\" width=\"480\">\n",
      "      <font size=\"3\">\n",
      "       <b>\n",
      "        I am so glad to love my work, to love my family and friends, to love my city, and to love nature. Yes, I want to also love a woman who loves me. That will come. So far it has alway been one-way rather than mutual. I'm particular, patient, and confident. It's sort of a \"patting oneself on the back\" to say it, but I wish more people would show restraint about forming intimate relationships of the sort that are called marriages. Too many young folks hurry into such arrangements, and all too soon failure comes about. People think it's easier than it really is. Loving is often easy, but the long-term nurturing and sustaining of the love is work. I develop this theme more in my essay FAMILY.\n",
      "       </b>\n",
      "      </font>\n",
      "     </td>\n",
      "    </tr>\n",
      "    <tr>\n",
      "    </tr>\n",
      "   </table>\n",
      "  </td>\n",
      "  <td align=\"center\" valign=\"top\" width=\"125\">\n",
      "   <br/>\n",
      "   <br/>\n",
      "   <br/>\n",
      "   <!-- -- #include virtual=\"/includes/panel1.html\" -- -->\n",
      "  </td>\n",
      " </tr>\n",
      "</table>\n"
     ]
    }
   ],
   "source": [
    "# import pprint\n",
    "\n",
    "\n",
    "html = list(soup.children)[2] # Selecting the HTML element child from the soup object\n",
    "body = list(html.children)[3] # Selecting the body element from the HTML children\n",
    "center = list(body.children)[4]\n",
    "table = list(center.children)[0]\n",
    "\n",
    "print(table.prettify())"
   ]
  },
  {
   "cell_type": "markdown",
   "metadata": {},
   "source": [
    "### .find() <br>\n",
    "<p>Find a specific instance of the parameter passed in</p>"
   ]
  },
  {
   "cell_type": "code",
   "execution_count": 12,
   "metadata": {},
   "outputs": [
    {
     "data": {
      "text/plain": [
       "<b>Love</b>"
      ]
     },
     "execution_count": 12,
     "metadata": {},
     "output_type": "execute_result"
    }
   ],
   "source": [
    "table.find('b')"
   ]
  },
  {
   "cell_type": "markdown",
   "metadata": {},
   "source": [
    "### .find_all() <br>\n",
    "<p>Similar to .find(), except this will return all of them instead of one</p>"
   ]
  },
  {
   "cell_type": "code",
   "execution_count": 13,
   "metadata": {},
   "outputs": [
    {
     "data": {
      "text/plain": [
       "['Love',\n",
       " \"\\xa0\\xa0\\xa0\\xa0Of the fourteen essays I'm writing, only this one treats an emotion. That love is the most important emotion is the deduction. I think other emotions may be as important, but are not so powerfully moving or interesting to most of us. Love is exciting. There is no need to justify choosing to write about it. Are not most songs love songs? Are not most novels stories featuring love?\",\n",
       " '\\xa0\\xa0\\xa0\\xa0Love in its broad sense is the feeling of strong attraction, and often attachment and protection. It is felt towards other people, towards pets, towards inanimate objects, towards abstractions such as patriotism, religious matters, hobbies, and I suppose nearly everything. It is multifaceted, and includes ordinary self-love, chivalrous love, carnal or sexual love, friendly love, family love. It is an emotion that is closely related to certain others, such as hope. At its simplest level it is what we strongly like.',\n",
       " \"\\xa0\\xa0\\xa0\\xa0I have a hunch that love, like the rose, owes much of its appeal to our mainstream Western culture -- and that in some other societies it is by no means such a big deal. Somehow, especially in recent centuries, the notion of romantic love has become elevated far more than it used to be. Why this has happened is for social historians to explain; I don't know. I will merely say that if one reads the ancient Greeks and Romans, then it is obvious that today love is relatively more significant in our culture. A plethora of differences exist between us and people 2,000 years ago. That doesn't invalidate my observation that we moderns rate love more importantly now than our ancestors used to.\",\n",
       " \"\\xa0\\xa0\\xa0\\xa0It is presumed that sexual attraction, being instinctive, is comparatively constant over the centuries and across cultures. But let's be clear: sexual attraction is only one manifestation of love. One can be sexually aroused and still feel no love, just as a couple can be married and possess no mutual sexual appetite or love. Some people find they can fulfill sexual needs one way, and they love something else, such as a hobby or their work.\",\n",
       " \"\\xa0\\xa0\\xa0\\xa0When sexual desire, or go ahead and call it sexual need, is very strong, it certainly gets called love. To be precise it may be best termed carnal love. Similarly, a glutton loves food, and an addict perversely loves whatever drug or activity he's hooked on. Sexual love, then, is not necessarily anything more than an equivalent of an animal being in heat. On the other hand, if two people share a wholehearted, broad-based love for each other, then their sexual relations may be more an expression of their affection than of their instinctive drive.\",\n",
       " \"\\xa0\\xa0\\xa0\\xa0Yes, love and sex are too much confused. It is frightful how many beastly rapes and molestations take place, which are sexual but devoid of love completely. Love can be found thriving far from sex, as in a mother's love for her child, or a religious order's mystical love of doing glory to God, or of the knight's chivalrous love towards his country and rulers. The soldier's courage to defend his family is a kind of love in action. The artist who starves in an attic, living a celibate existence to produce masterpieces, is illuminated by love. Childhood friends who go through life together know love, though not sex, as regards each other. Have I made my point obvious?\",\n",
       " \"\\xa0\\xa0\\xa0\\xa0It is, I'm sure. But I'm on a roll and don't want to stop yet. Love's antithesis is hate. Hate is often associated with harm or destruction, even death. But again, it is not equal to those. It is strongly held negative emotions, even as love is strongly held positive ones.\",\n",
       " '\\xa0\\xa0\\xa0\\xa0The golden rule, \"Love thy neighbor as thyself,\" or \"do unto others as you would have them do unto you,\" helps us see that if we want people to enjoy peaceful, content existence, we must work together cooperatively, and not let our passions, of either love or hate, get us out of line.',\n",
       " \"\\xa0\\xa0\\xa0\\xa0One thing I'm sure of, is the world would be a better place if all of us individuals had someone or something we loved. I feel sorry for people who are neutral about this, indifferent regarding that, and don't know what really turns them on. I almost wish there was a law against having no love in one's life. Well, that kind of thinking is too extreme. Is it possible, without love, to be healthy in a mental sense? To be balanced? Can an individual's self-esteem be proper without love? It is certainly possible for a person to be temporarily devoid of love. For example, pick up a random individual, transport him across the planet, and set him into a strange culture, where he knows no one, he knows not a word of the language. He will be in shock, and will love no one, and probably his only love then would be of longing for his familiar life. Temporarily, his shock, his sadness, and his bewilderment will be more powerful feelings than any love he feels.\",\n",
       " '\\xa0\\xa0\\xa0\\xa0Since love can be felt in so many different ways, it is a good thing our culture allows people freedom to choose. All the more wondrous that some of us seem to love nothing! What explains this? Are children who were in dysfunctional, abusive situations forced to retreat as it were into a shell, to be calloused against freely opening themselves to the flow of their emotions? Are certain people born with chemical imbalances in their brains which make it impossible for them to feel love? Are some people so prone to liking numerous things that they tend to not strongly like (i.e., love) any one thing in particular?',\n",
       " \"\\xa0\\xa0\\xa0\\xa0To love is to express oneself. Usually one's love is obviously manifested. It may be that even as some of us are generally shy and inhibited, some of us are poorer at loving. Doubtless there are complex, peculiar combinations of factors operating in every individual case. And most of our general rules or commonplace assumptions are based on behavior prevalent in our culture.\",\n",
       " \"\\xa0\\xa0\\xa0\\xa0The chief motivating factor in many of our lives is love. People go to extraordinary lengths and costs to find love, or to give it, to keep it, to hope for it. In some cultures, such as primitive stone-age ones, I'm sure that basic food gathering and survival work is more dominating than any interpretation of love other than love of continuing to live.\",\n",
       " '\\xa0\\xa0\\xa0\\xa0In my life, I prefer to give my time to being with people I love, rather than being paid to spend time working for people whom I don\\'t love. Similarly, I would rather remain single and wait until I can marry a woman with whom I can share profound love, than cohabit with a woman about who I am indifferent. It is often said \"what really counts is that a person does what he or she loves.\" Yet how many of us really do? How many of us would keep doing our jobs if we didn\\'t need the money? Few of us. Even if I was suddenly rich financially, I\\'d still do most of what I do now; I\\'d not fundamentally change.',\n",
       " \"\\xa0\\xa0\\xa0\\xa0No, money won't alter me much. Love may. If I decide to marry a woman, and she is eager also, I would stop merely doing whatever I please, and start giving my attention equally to pleasing her. Ideally we'd work very well together. But times would occur when we'd disagree, so I'd yield whenever I possibly could, out of my love and respect, and concern for our marriage.\",\n",
       " \"\\xa0\\xa0\\xa0\\xa0The love that motivates people to give freely their very lives is greatly inspiring. If martyrs didn't have love propelling them, then they at any rate had strong emotions. Sometimes I dream about hypothetical situations that test my love. For example, if the woman I think the very world of, asked me to give up my Seattle existence, to live with her 1,000 miles away -- would I do it? Maybe. If I figured there was good odds of living happily ever after, I might. But such questions are answered not just by deliberation, they're affected by emotion. Love can blind us to logic, reason and common sense. I love so many things about my life in Seattle, and there are so many eligible women here  -- that the chance of me heading out of town, loveblind, is remote. But that I think about such things, shows I am moved mightily by love.\",\n",
       " '\\xa0\\xa0\\xa0\\xa0I am so glad to love my work, to love my family and friends, to love my city, and to love nature. Yes, I want to also love a woman who loves me. That will come. So far it has alway been one-way rather than mutual. I\\'m particular, patient, and confident. It\\'s sort of a \"patting oneself on the back\" to say it, but I wish more people would show restraint about forming intimate relationships of the sort that are called marriages. Too many young folks hurry into such arrangements, and all too soon failure comes about. People think it\\'s easier than it really is. Loving is often easy, but the long-term nurturing and sustaining of the love is work. I develop this theme more in my essay FAMILY.']"
      ]
     },
     "execution_count": 13,
     "metadata": {},
     "output_type": "execute_result"
    }
   ],
   "source": [
    "text_body = []\n",
    "\n",
    "for b in table.find_all('b'):\n",
    "    text_body.append(b.text)\n",
    "    \n",
    "text_body"
   ]
  },
  {
   "cell_type": "markdown",
   "metadata": {},
   "source": [
    "## Exercise <br>\n",
    "<p>Using the Beautiful Soup library, grab the data from the following link: https://www.nbastuffer.com/2019-2020-nba-player-stats/. After getting the data, display the players name and team inside of a pandas dataframe.</p>"
   ]
  },
  {
   "cell_type": "code",
   "execution_count": 14,
   "metadata": {},
   "outputs": [],
   "source": [
    "# Hint: Use the .get_text() method\n",
    "\n",
    "import matplotlib.pyplot as plt\n",
    "import numpy as np\n",
    "import pandas as pd\n",
    "\n"
   ]
  },
  {
   "cell_type": "code",
   "execution_count": null,
   "metadata": {},
   "outputs": [],
   "source": []
  },
  {
   "cell_type": "code",
   "execution_count": null,
   "metadata": {
    "scrolled": true
   },
   "outputs": [],
   "source": []
  },
  {
   "cell_type": "code",
   "execution_count": null,
   "metadata": {
    "scrolled": false
   },
   "outputs": [],
   "source": []
  },
  {
   "cell_type": "code",
   "execution_count": null,
   "metadata": {},
   "outputs": [],
   "source": []
  },
  {
   "cell_type": "markdown",
   "metadata": {},
   "source": [
    "# Selenium"
   ]
  },
  {
   "cell_type": "code",
   "execution_count": 15,
   "metadata": {},
   "outputs": [
    {
     "data": {
      "text/plain": [
       "'C:\\\\Users\\\\bstan\\\\anaconda3\\\\envs\\\\intro'"
      ]
     },
     "execution_count": 15,
     "metadata": {},
     "output_type": "execute_result"
    }
   ],
   "source": [
    "import os\n",
    "import sys\n",
    "os.path.dirname(sys.executable)"
   ]
  },
  {
   "cell_type": "code",
   "execution_count": 16,
   "metadata": {},
   "outputs": [
    {
     "name": "stdout",
     "output_type": "stream",
     "text": [
      "Requirement already satisfied: selenium in c:\\users\\bstan\\anaconda3\\envs\\intro\\lib\\site-packages (3.141.0)\n",
      "Requirement already satisfied: urllib3 in c:\\users\\bstan\\anaconda3\\envs\\intro\\lib\\site-packages (from selenium) (1.26.4)\n"
     ]
    }
   ],
   "source": [
    "!pip install selenium"
   ]
  },
  {
   "cell_type": "code",
   "execution_count": 17,
   "metadata": {},
   "outputs": [],
   "source": [
    "from selenium import webdriver\n",
    "from time import sleep\n",
    "\n"
   ]
  },
  {
   "cell_type": "code",
   "execution_count": 18,
   "metadata": {},
   "outputs": [],
   "source": [
    "from selenium.webdriver.common.keys import Keys"
   ]
  },
  {
   "cell_type": "code",
   "execution_count": 19,
   "metadata": {},
   "outputs": [
    {
     "ename": "SessionNotCreatedException",
     "evalue": "Message: session not created: This version of ChromeDriver only supports Chrome version 91\nCurrent browser version is 95.0.4638.69 with binary path C:\\Program Files\\Google\\Chrome\\Application\\chrome.exe\n",
     "output_type": "error",
     "traceback": [
      "\u001b[1;31m---------------------------------------------------------------------------\u001b[0m",
      "\u001b[1;31mSessionNotCreatedException\u001b[0m                Traceback (most recent call last)",
      "\u001b[1;32m<ipython-input-19-1faffe94823f>\u001b[0m in \u001b[0;36m<module>\u001b[1;34m\u001b[0m\n\u001b[1;32m----> 1\u001b[1;33m \u001b[0mdriver\u001b[0m \u001b[1;33m=\u001b[0m \u001b[0mwebdriver\u001b[0m\u001b[1;33m.\u001b[0m\u001b[0mChrome\u001b[0m\u001b[1;33m(\u001b[0m\u001b[1;33m)\u001b[0m\u001b[1;33m\u001b[0m\u001b[1;33m\u001b[0m\u001b[0m\n\u001b[0m\u001b[0;32m      2\u001b[0m \u001b[0mdriver\u001b[0m\u001b[1;33m.\u001b[0m\u001b[0mget\u001b[0m\u001b[1;33m(\u001b[0m\u001b[1;34m'https://kekambas-bs.herokuapp.com/login'\u001b[0m\u001b[1;33m)\u001b[0m\u001b[1;33m\u001b[0m\u001b[1;33m\u001b[0m\u001b[0m\n\u001b[0;32m      3\u001b[0m \u001b[1;33m\u001b[0m\u001b[0m\n\u001b[0;32m      4\u001b[0m \u001b[0musername\u001b[0m \u001b[1;33m=\u001b[0m \u001b[0mdriver\u001b[0m\u001b[1;33m.\u001b[0m\u001b[0mfind_element_by_name\u001b[0m\u001b[1;33m(\u001b[0m\u001b[1;34m'username'\u001b[0m\u001b[1;33m)\u001b[0m\u001b[1;33m\u001b[0m\u001b[1;33m\u001b[0m\u001b[0m\n\u001b[0;32m      5\u001b[0m \u001b[0musername\u001b[0m\u001b[1;33m.\u001b[0m\u001b[0mclear\u001b[0m\u001b[1;33m(\u001b[0m\u001b[1;33m)\u001b[0m\u001b[1;33m\u001b[0m\u001b[1;33m\u001b[0m\u001b[0m\n",
      "\u001b[1;32m~\\anaconda3\\envs\\intro\\lib\\site-packages\\selenium\\webdriver\\chrome\\webdriver.py\u001b[0m in \u001b[0;36m__init__\u001b[1;34m(self, executable_path, port, options, service_args, desired_capabilities, service_log_path, chrome_options, keep_alive)\u001b[0m\n\u001b[0;32m     74\u001b[0m \u001b[1;33m\u001b[0m\u001b[0m\n\u001b[0;32m     75\u001b[0m         \u001b[1;32mtry\u001b[0m\u001b[1;33m:\u001b[0m\u001b[1;33m\u001b[0m\u001b[1;33m\u001b[0m\u001b[0m\n\u001b[1;32m---> 76\u001b[1;33m             RemoteWebDriver.__init__(\n\u001b[0m\u001b[0;32m     77\u001b[0m                 \u001b[0mself\u001b[0m\u001b[1;33m,\u001b[0m\u001b[1;33m\u001b[0m\u001b[1;33m\u001b[0m\u001b[0m\n\u001b[0;32m     78\u001b[0m                 command_executor=ChromeRemoteConnection(\n",
      "\u001b[1;32m~\\anaconda3\\envs\\intro\\lib\\site-packages\\selenium\\webdriver\\remote\\webdriver.py\u001b[0m in \u001b[0;36m__init__\u001b[1;34m(self, command_executor, desired_capabilities, browser_profile, proxy, keep_alive, file_detector, options)\u001b[0m\n\u001b[0;32m    155\u001b[0m             warnings.warn(\"Please use FirefoxOptions to set browser profile\",\n\u001b[0;32m    156\u001b[0m                           DeprecationWarning, stacklevel=2)\n\u001b[1;32m--> 157\u001b[1;33m         \u001b[0mself\u001b[0m\u001b[1;33m.\u001b[0m\u001b[0mstart_session\u001b[0m\u001b[1;33m(\u001b[0m\u001b[0mcapabilities\u001b[0m\u001b[1;33m,\u001b[0m \u001b[0mbrowser_profile\u001b[0m\u001b[1;33m)\u001b[0m\u001b[1;33m\u001b[0m\u001b[1;33m\u001b[0m\u001b[0m\n\u001b[0m\u001b[0;32m    158\u001b[0m         \u001b[0mself\u001b[0m\u001b[1;33m.\u001b[0m\u001b[0m_switch_to\u001b[0m \u001b[1;33m=\u001b[0m \u001b[0mSwitchTo\u001b[0m\u001b[1;33m(\u001b[0m\u001b[0mself\u001b[0m\u001b[1;33m)\u001b[0m\u001b[1;33m\u001b[0m\u001b[1;33m\u001b[0m\u001b[0m\n\u001b[0;32m    159\u001b[0m         \u001b[0mself\u001b[0m\u001b[1;33m.\u001b[0m\u001b[0m_mobile\u001b[0m \u001b[1;33m=\u001b[0m \u001b[0mMobile\u001b[0m\u001b[1;33m(\u001b[0m\u001b[0mself\u001b[0m\u001b[1;33m)\u001b[0m\u001b[1;33m\u001b[0m\u001b[1;33m\u001b[0m\u001b[0m\n",
      "\u001b[1;32m~\\anaconda3\\envs\\intro\\lib\\site-packages\\selenium\\webdriver\\remote\\webdriver.py\u001b[0m in \u001b[0;36mstart_session\u001b[1;34m(self, capabilities, browser_profile)\u001b[0m\n\u001b[0;32m    250\u001b[0m         parameters = {\"capabilities\": w3c_caps,\n\u001b[0;32m    251\u001b[0m                       \"desiredCapabilities\": capabilities}\n\u001b[1;32m--> 252\u001b[1;33m         \u001b[0mresponse\u001b[0m \u001b[1;33m=\u001b[0m \u001b[0mself\u001b[0m\u001b[1;33m.\u001b[0m\u001b[0mexecute\u001b[0m\u001b[1;33m(\u001b[0m\u001b[0mCommand\u001b[0m\u001b[1;33m.\u001b[0m\u001b[0mNEW_SESSION\u001b[0m\u001b[1;33m,\u001b[0m \u001b[0mparameters\u001b[0m\u001b[1;33m)\u001b[0m\u001b[1;33m\u001b[0m\u001b[1;33m\u001b[0m\u001b[0m\n\u001b[0m\u001b[0;32m    253\u001b[0m         \u001b[1;32mif\u001b[0m \u001b[1;34m'sessionId'\u001b[0m \u001b[1;32mnot\u001b[0m \u001b[1;32min\u001b[0m \u001b[0mresponse\u001b[0m\u001b[1;33m:\u001b[0m\u001b[1;33m\u001b[0m\u001b[1;33m\u001b[0m\u001b[0m\n\u001b[0;32m    254\u001b[0m             \u001b[0mresponse\u001b[0m \u001b[1;33m=\u001b[0m \u001b[0mresponse\u001b[0m\u001b[1;33m[\u001b[0m\u001b[1;34m'value'\u001b[0m\u001b[1;33m]\u001b[0m\u001b[1;33m\u001b[0m\u001b[1;33m\u001b[0m\u001b[0m\n",
      "\u001b[1;32m~\\anaconda3\\envs\\intro\\lib\\site-packages\\selenium\\webdriver\\remote\\webdriver.py\u001b[0m in \u001b[0;36mexecute\u001b[1;34m(self, driver_command, params)\u001b[0m\n\u001b[0;32m    319\u001b[0m         \u001b[0mresponse\u001b[0m \u001b[1;33m=\u001b[0m \u001b[0mself\u001b[0m\u001b[1;33m.\u001b[0m\u001b[0mcommand_executor\u001b[0m\u001b[1;33m.\u001b[0m\u001b[0mexecute\u001b[0m\u001b[1;33m(\u001b[0m\u001b[0mdriver_command\u001b[0m\u001b[1;33m,\u001b[0m \u001b[0mparams\u001b[0m\u001b[1;33m)\u001b[0m\u001b[1;33m\u001b[0m\u001b[1;33m\u001b[0m\u001b[0m\n\u001b[0;32m    320\u001b[0m         \u001b[1;32mif\u001b[0m \u001b[0mresponse\u001b[0m\u001b[1;33m:\u001b[0m\u001b[1;33m\u001b[0m\u001b[1;33m\u001b[0m\u001b[0m\n\u001b[1;32m--> 321\u001b[1;33m             \u001b[0mself\u001b[0m\u001b[1;33m.\u001b[0m\u001b[0merror_handler\u001b[0m\u001b[1;33m.\u001b[0m\u001b[0mcheck_response\u001b[0m\u001b[1;33m(\u001b[0m\u001b[0mresponse\u001b[0m\u001b[1;33m)\u001b[0m\u001b[1;33m\u001b[0m\u001b[1;33m\u001b[0m\u001b[0m\n\u001b[0m\u001b[0;32m    322\u001b[0m             response['value'] = self._unwrap_value(\n\u001b[0;32m    323\u001b[0m                 response.get('value', None))\n",
      "\u001b[1;32m~\\anaconda3\\envs\\intro\\lib\\site-packages\\selenium\\webdriver\\remote\\errorhandler.py\u001b[0m in \u001b[0;36mcheck_response\u001b[1;34m(self, response)\u001b[0m\n\u001b[0;32m    240\u001b[0m                 \u001b[0malert_text\u001b[0m \u001b[1;33m=\u001b[0m \u001b[0mvalue\u001b[0m\u001b[1;33m[\u001b[0m\u001b[1;34m'alert'\u001b[0m\u001b[1;33m]\u001b[0m\u001b[1;33m.\u001b[0m\u001b[0mget\u001b[0m\u001b[1;33m(\u001b[0m\u001b[1;34m'text'\u001b[0m\u001b[1;33m)\u001b[0m\u001b[1;33m\u001b[0m\u001b[1;33m\u001b[0m\u001b[0m\n\u001b[0;32m    241\u001b[0m             \u001b[1;32mraise\u001b[0m \u001b[0mexception_class\u001b[0m\u001b[1;33m(\u001b[0m\u001b[0mmessage\u001b[0m\u001b[1;33m,\u001b[0m \u001b[0mscreen\u001b[0m\u001b[1;33m,\u001b[0m \u001b[0mstacktrace\u001b[0m\u001b[1;33m,\u001b[0m \u001b[0malert_text\u001b[0m\u001b[1;33m)\u001b[0m\u001b[1;33m\u001b[0m\u001b[1;33m\u001b[0m\u001b[0m\n\u001b[1;32m--> 242\u001b[1;33m         \u001b[1;32mraise\u001b[0m \u001b[0mexception_class\u001b[0m\u001b[1;33m(\u001b[0m\u001b[0mmessage\u001b[0m\u001b[1;33m,\u001b[0m \u001b[0mscreen\u001b[0m\u001b[1;33m,\u001b[0m \u001b[0mstacktrace\u001b[0m\u001b[1;33m)\u001b[0m\u001b[1;33m\u001b[0m\u001b[1;33m\u001b[0m\u001b[0m\n\u001b[0m\u001b[0;32m    243\u001b[0m \u001b[1;33m\u001b[0m\u001b[0m\n\u001b[0;32m    244\u001b[0m     \u001b[1;32mdef\u001b[0m \u001b[0m_value_or_default\u001b[0m\u001b[1;33m(\u001b[0m\u001b[0mself\u001b[0m\u001b[1;33m,\u001b[0m \u001b[0mobj\u001b[0m\u001b[1;33m,\u001b[0m \u001b[0mkey\u001b[0m\u001b[1;33m,\u001b[0m \u001b[0mdefault\u001b[0m\u001b[1;33m)\u001b[0m\u001b[1;33m:\u001b[0m\u001b[1;33m\u001b[0m\u001b[1;33m\u001b[0m\u001b[0m\n",
      "\u001b[1;31mSessionNotCreatedException\u001b[0m: Message: session not created: This version of ChromeDriver only supports Chrome version 91\nCurrent browser version is 95.0.4638.69 with binary path C:\\Program Files\\Google\\Chrome\\Application\\chrome.exe\n"
     ]
    }
   ],
   "source": [
    "driver = webdriver.Chrome()\n",
    "driver.get('https://kekambas-bs.herokuapp.com/login')\n",
    "\n",
    "username = driver.find_element_by_name('username')\n",
    "username.clear()\n",
    "username.send_keys('bstanton')\n",
    "\n",
    "password = driver.find_element_by_name('password')\n",
    "password.clear()\n",
    "password.send_keys('pass')\n",
    "password.send_keys(Keys.RETURN)\n",
    "\n",
    "# submit_btn = driver.find_element_by_id('submit')\n",
    "# submit_btn.click()\n",
    "\n",
    "driver.get('https://kekambas-bs.herokuapp.com/createpost')\n",
    "\n",
    "title = driver.find_element_by_name('title')\n",
    "title.clear()\n",
    "title.send_keys('Doing another bot test')\n",
    "\n",
    "content = driver.find_element_by_name('content')\n",
    "content.clear()\n",
    "content.send_keys('Beep boop bop, I am a robot')\n",
    "\n",
    "\n",
    "submit_btn = driver.find_element_by_id('submit')\n",
    "submit_btn.click()\n",
    "\n",
    "driver.get('https://kekambas-bs.herokuapp.com')\n",
    "\n",
    "\n",
    "\n",
    "sleep(7)\n",
    "\n",
    "driver.close()"
   ]
  },
  {
   "cell_type": "code",
   "execution_count": null,
   "metadata": {},
   "outputs": [],
   "source": []
  }
 ],
 "metadata": {
  "kernelspec": {
   "display_name": "Python 3",
   "language": "python",
   "name": "python3"
  },
  "language_info": {
   "codemirror_mode": {
    "name": "ipython",
    "version": 3
   },
   "file_extension": ".py",
   "mimetype": "text/x-python",
   "name": "python",
   "nbconvert_exporter": "python",
   "pygments_lexer": "ipython3",
   "version": "3.8.5"
  }
 },
 "nbformat": 4,
 "nbformat_minor": 2
}
